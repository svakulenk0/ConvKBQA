{
 "cells": [
  {
   "cell_type": "markdown",
   "metadata": {},
   "source": [
    "# Sample Conversation"
   ]
  },
  {
   "cell_type": "code",
   "execution_count": 5,
   "metadata": {},
   "outputs": [
    {
     "name": "stdout",
     "output_type": "stream",
     "text": [
      "6720 conversations loaded\n"
     ]
    }
   ],
   "source": [
    "import json\n",
    "train_conversations_path = './data/train_set/train_set_ALL.json'\n",
    "\n",
    "# load training set\n",
    "with open(train_conversations_path, \"r\") as data:\n",
    "    conversations = json.load(data)\n",
    "print(\"%d conversations loaded\"%len(conversations))"
   ]
  },
  {
   "cell_type": "code",
   "execution_count": 9,
   "metadata": {},
   "outputs": [
    {
     "name": "stdout",
     "output_type": "stream",
     "text": [
      "https://www.wikidata.org/wiki/Q223495\n",
      "https://www.wikidata.org/wiki/Q928282\n",
      "https://www.wikidata.org/wiki/Q131749\n",
      "https://www.wikidata.org/wiki/Q181754\n"
     ]
    }
   ],
   "source": [
    "# load a sample conversation as a sequence of entities\n",
    "conversation = conversations[0]\n",
    "seed_entity = conversation['seed_entity']\n",
    "print(seed_entity)\n",
    "\n",
    "dialogue_history = []\n",
    "for i in range(len(conversation['questions'])):\n",
    "    answer = conversation['questions'][i]['answer']\n",
    "    # consider only answers which are entities\n",
    "    if ('www.wikidata.org' in answer):\n",
    "        print(answer)\n",
    "\n",
    "# TODO retrieve relations between these entities"
   ]
  },
  {
   "cell_type": "markdown",
   "metadata": {},
   "source": [
    "# Retrieve Relations"
   ]
  },
  {
   "cell_type": "code",
   "execution_count": null,
   "metadata": {},
   "outputs": [],
   "source": [
    "# load "
   ]
  }
 ],
 "metadata": {
  "kernelspec": {
   "display_name": "transformers",
   "language": "python",
   "name": "transformers"
  },
  "language_info": {
   "codemirror_mode": {
    "name": "ipython",
    "version": 3
   },
   "file_extension": ".py",
   "mimetype": "text/x-python",
   "name": "python",
   "nbconvert_exporter": "python",
   "pygments_lexer": "ipython3",
   "version": "3.8.1"
  }
 },
 "nbformat": 4,
 "nbformat_minor": 2
}
